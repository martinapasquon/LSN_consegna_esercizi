{
 "cells": [
  {
   "cell_type": "code",
   "execution_count": null,
   "id": "daff1791",
   "metadata": {},
   "outputs": [],
   "source": [
    "import matplotlib\n",
    "import matplotlib.pyplot as plt\n",
    "import numpy as np\n",
    "import math\n",
    "\n",
    "file_sum = open(\"sum_prog.txt\", \"r\")\n",
    "  sum_prog = file.read()\n",
    "  print(sum_prog)\n",
    "  file_sum.close()\n",
    "file_err = open(\"err_prog.txt\", \"r\")\n",
    "  err_prog = file.read()\n",
    "  print(err_prog)\n",
    "  file_err.close()\n",
    "    \n",
    "x*=L # Number of throws = block * (Number of throws in each block)\n",
    "plt.errorbar(x,sum_prog-0.5,yerr=err_prog)\n",
    "plt.xlabel('#throws')\n",
    "plt.ylabel('<r>-1/2')\n",
    "plt.grid(True)\n",
    "plt.show()"
   ]
  }
 ],
 "metadata": {
  "kernelspec": {
   "display_name": "Python 3 (ipykernel)",
   "language": "python",
   "name": "python3"
  },
  "language_info": {
   "codemirror_mode": {
    "name": "ipython",
    "version": 3
   },
   "file_extension": ".py",
   "mimetype": "text/x-python",
   "name": "python",
   "nbconvert_exporter": "python",
   "pygments_lexer": "ipython3",
   "version": "3.9.7"
  }
 },
 "nbformat": 4,
 "nbformat_minor": 5
}
